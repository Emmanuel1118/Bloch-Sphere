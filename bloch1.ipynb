{
 "cells": [
  {
   "cell_type": "code",
   "execution_count": 1,
   "metadata": {},
   "outputs": [],
   "source": [
    "import matplotlib.pyplot as plt\n",
    "import numpy as np\n",
    "import math\n",
    "import cmath\n",
    "from mpl_toolkits.mplot3d import Axes3D"
   ]
  },
  {
   "cell_type": "code",
   "execution_count": 2,
   "metadata": {},
   "outputs": [],
   "source": [
    "%matplotlib qt"
   ]
  },
  {
   "cell_type": "code",
   "execution_count": 3,
   "metadata": {
    "tags": []
   },
   "outputs": [
    {
     "output_type": "stream",
     "name": "stdout",
     "text": "[1. 0. 0.]\n[0.70710678 0.70710678]\n"
    }
   ],
   "source": [
    "psi = [1,0] # |0⟩ initial qubit state\n",
    "\n",
    "sqrt2 = 1/math.sqrt(2) \n",
    "\n",
    "h = [[sqrt2,sqrt2],[sqrt2,-sqrt2]] # defining an operation - the Hadamard matrix\n",
    "\n",
    "psi = np.dot(h,psi) # transforming the state using the Hadamard gate\n",
    "\n",
    "sig = [] # sigma- pauli matrices\n",
    "sig.append([[0,1],[1,0]])\n",
    "sig.append([[0,1j],[-1j,0]])\n",
    "sig.append([[1,0],[0,-1]])\n",
    "\n",
    "def toBloch(psi):\n",
    "    coords = [np.dot(np.conj(psi),np.dot(m,psi)) for m in sig] # calculating expectation values using pauli matrices\n",
    "    return np.array(coords).real\n",
    "\n",
    "vec = toBloch(psi) # bloch vector\n",
    "print(vec)\n",
    "print(psi)"
   ]
  },
  {
   "cell_type": "code",
   "execution_count": 10,
   "metadata": {
    "tags": []
   },
   "outputs": [],
   "source": [
    "fig = plt.figure()\n",
    "ax = Axes3D(fig)\n",
    "ax.set_axis_off()\n",
    "\n",
    "m = [(0,0,1),(0,0,-1),(1,0,0),(-1,0,0),(0,1,0),(0,-1,0)] # basis of measurment in bloch sphere\n",
    "\n",
    "lbls = [\"|0⟩\",\"|1⟩\",\"|+⟩\",\"|-⟩\",\"|+i⟩\",\"|-i⟩\"]\n",
    "\n",
    "m = np.transpose(m)\n",
    "\n",
    "for i in range(len(m[0])): # plot each point + it's index as text above\n",
    "    ax.scatter(m[0,i],m[1,i],m[2,i],color='r') \n",
    "    ax.text(m[0,i],m[1,i],m[2,i],  '%s' % (lbls[i]), size=20, zorder=1, color='k')\n",
    "\n",
    "u = np.linspace(0, 2 * np.pi, 100)\n",
    "v = np.linspace(0, np.pi, 100)\n",
    "\n",
    "x = 1 * np.outer(np.cos(u), np.sin(v))\n",
    "y = 1 * np.outer(np.sin(u), np.sin(v))\n",
    "z = 1 * np.outer(np.ones(np.size(u)), np.cos(v))\n",
    "\n",
    "elev = 20.0\n",
    "\n",
    "rot = 0.5 * np.pi\n",
    "\n",
    "ax.plot_surface(x, y, z,  rstride=4, cstride=4, color='w', linewidth=0, alpha=0.2)\n",
    "#calculate vectors for \"vertical\" circle\n",
    "a = np.array([-np.sin(elev / 180 * np.pi), 0, np.cos(elev / 180 * np.pi)])\n",
    "b = np.array([0, 1, 0])\n",
    "b = b * np.cos(rot) + np.cross(a, b) * np.sin(rot) + a * np.dot(a, b) * (1 - np.cos(rot))\n",
    "horiz_front = np.linspace(0, 2 * np.pi, 100)\n",
    "ax.plot(np.sin(horiz_front),np.cos(horiz_front),0,color='0.7')\n",
    "vert_front = np.linspace(np.pi / 1, 3 * np.pi / 1, 100)\n",
    "ax.plot(a[0] * np.sin(vert_front) + b[0] * np.cos(vert_front), b[1] * np.cos(vert_front), a[2] * np.sin(vert_front) + b[2] * np.cos(vert_front),color='0.7')\n",
    "\n",
    "#unit vector\n",
    "ax.quiver(0,0,0,vec[0],vec[1],vec[2],color = 'b')\n",
    "\n",
    "ax.view_init(elev = 20.0, azim = 30.0)\n",
    "\n",
    "ax.auto_scale_xyz([-1,1], [-1,1], [-0.75,0.75])\n",
    "\n",
    "ax.set_title(f'|ψ⟩ = {psi[0]}|0⟩ + {psi[1]}|1⟩',fontsize=12,fontweight='bold')\n",
    "\n",
    "plt.show()"
   ]
  },
  {
   "cell_type": "code",
   "execution_count": null,
   "metadata": {},
   "outputs": [],
   "source": []
  }
 ],
 "metadata": {
  "language_info": {
   "codemirror_mode": {
    "name": "ipython",
    "version": 3
   },
   "file_extension": ".py",
   "mimetype": "text/x-python",
   "name": "python",
   "nbconvert_exporter": "python",
   "pygments_lexer": "ipython3",
   "version": "3.7.4-final"
  },
  "orig_nbformat": 2,
  "kernelspec": {
   "name": "python37464bitbaseconda48677f6531434366962f3442b25a7dbb",
   "display_name": "Python 3.7.4 64-bit ('base': conda)"
  }
 },
 "nbformat": 4,
 "nbformat_minor": 2
}